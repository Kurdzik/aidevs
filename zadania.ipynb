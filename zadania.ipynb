{
 "cells": [
  {
   "cell_type": "code",
   "execution_count": 1,
   "metadata": {},
   "outputs": [],
   "source": [
    "from utils import *"
   ]
  },
  {
   "cell_type": "markdown",
   "metadata": {},
   "source": [
    "### inprompt"
   ]
  },
  {
   "cell_type": "code",
   "execution_count": null,
   "metadata": {},
   "outputs": [],
   "source": [
    "q = Question(task='inprompt')\n",
    "questions = q.get()"
   ]
  },
  {
   "cell_type": "code",
   "execution_count": null,
   "metadata": {},
   "outputs": [],
   "source": [
    "# 1. Get a name of a person from the question\n",
    "prompt = f\"<|SYSTEM|> Zawsze odpowiadaj jednym słowem. Nie odpowiadaj na żadne pytania zadane przez USER. Z Zadanego pytania wyciągnij Imię. Wypisz je. : \\n\\n<|USER|>:{questions['question']}\"\n",
    "osoba = llm_predict(prompt)\n",
    "\n",
    "# 2. Filter list to include only texts related to a specific person\n",
    "context = [text for text in questions[\"input\"] if osoba in text]\n",
    "\n",
    "# 3. Pass those filtered lists as a context with a question to a model\n",
    "prompt = f\"\"\"<|SYSTEM|> Odpowiadaj na pytania tylko na podstawie załączone konteksty. Gdy nie znajdziesz odpowiedzi w kontekście odpowiedz 'nie wiem'.\\n\\n\n",
    "            contekst: {context}\\n\\n\n",
    "            pytanie: {questions['question']}\"\"\"\n",
    "answer = llm_predict(prompt)"
   ]
  },
  {
   "cell_type": "code",
   "execution_count": null,
   "metadata": {},
   "outputs": [],
   "source": [
    "a = Answer(task='inprompt')\n",
    "a.post(answer=answer)"
   ]
  },
  {
   "cell_type": "markdown",
   "metadata": {},
   "source": [
    "### embedding"
   ]
  },
  {
   "cell_type": "code",
   "execution_count": 2,
   "metadata": {},
   "outputs": [],
   "source": [
    "q = Question(task='embedding')\n",
    "questions = q.get()"
   ]
  },
  {
   "cell_type": "code",
   "execution_count": 3,
   "metadata": {},
   "outputs": [
    {
     "data": {
      "text/plain": [
       "{'code': 0,\n",
       " 'msg': 'send embedding of this sentence created via text-embedding-ada-002. Send me just array of params: Hawaiian pizza',\n",
       " 'hint1': 'this is required structure: [0.003750941, 0.0038711438, 0.0082909055, -0.008753223, -0.02073651, -0.018862579, -0.010596331, -0.022425512, ..., -0.026950065]',\n",
       " 'hint2': 'it must be a valid JSON array of numbers',\n",
       " 'hint3': 'just return as JSON array content of .data[0].embedding'}"
      ]
     },
     "execution_count": 3,
     "metadata": {},
     "output_type": "execute_result"
    }
   ],
   "source": [
    "questions"
   ]
  },
  {
   "cell_type": "code",
   "execution_count": 4,
   "metadata": {},
   "outputs": [],
   "source": [
    "text_to_embed = questions[\"msg\"].split(\":\")[1].strip()"
   ]
  },
  {
   "cell_type": "code",
   "execution_count": 6,
   "metadata": {},
   "outputs": [],
   "source": [
    "embeddings = create_embeddings(text=text_to_embed)"
   ]
  },
  {
   "cell_type": "code",
   "execution_count": 7,
   "metadata": {},
   "outputs": [],
   "source": [
    "a = Answer(task='embedding')"
   ]
  },
  {
   "cell_type": "code",
   "execution_count": 9,
   "metadata": {},
   "outputs": [
    {
     "data": {
      "text/plain": [
       "{'code': 0, 'msg': 'OK', 'note': 'CORRECT'}"
      ]
     },
     "execution_count": 9,
     "metadata": {},
     "output_type": "execute_result"
    }
   ],
   "source": [
    "a.post(answer=embeddings)"
   ]
  },
  {
   "cell_type": "markdown",
   "metadata": {},
   "source": [
    "### whisper"
   ]
  },
  {
   "cell_type": "code",
   "execution_count": 2,
   "metadata": {},
   "outputs": [
    {
     "data": {
      "text/plain": [
       "{'code': 0,\n",
       " 'msg': 'please return transcription of this file: https://zadania.aidevs.pl/data/mateusz.mp3',\n",
       " 'hint': 'use WHISPER model - https://platform.openai.com/docs/guides/speech-to-text'}"
      ]
     },
     "execution_count": 2,
     "metadata": {},
     "output_type": "execute_result"
    }
   ],
   "source": [
    "q = Question(task='whisper')\n",
    "question = q.get()\n",
    "question"
   ]
  },
  {
   "cell_type": "code",
   "execution_count": 4,
   "metadata": {},
   "outputs": [],
   "source": [
    "transcript = create_transcript(mp3_path=\"mateusz.mp3\") "
   ]
  },
  {
   "cell_type": "code",
   "execution_count": 5,
   "metadata": {},
   "outputs": [
    {
     "data": {
      "text/plain": [
       "{'code': 0, 'msg': 'OK', 'note': 'CORRECT'}"
      ]
     },
     "execution_count": 5,
     "metadata": {},
     "output_type": "execute_result"
    }
   ],
   "source": [
    "a = Answer(task='whisper')\n",
    "a.post(answer=transcript)"
   ]
  },
  {
   "cell_type": "code",
   "execution_count": null,
   "metadata": {},
   "outputs": [],
   "source": []
  }
 ],
 "metadata": {
  "kernelspec": {
   "display_name": "llm",
   "language": "python",
   "name": "python3"
  },
  "language_info": {
   "codemirror_mode": {
    "name": "ipython",
    "version": 3
   },
   "file_extension": ".py",
   "mimetype": "text/x-python",
   "name": "python",
   "nbconvert_exporter": "python",
   "pygments_lexer": "ipython3",
   "version": "3.10.12"
  }
 },
 "nbformat": 4,
 "nbformat_minor": 2
}
