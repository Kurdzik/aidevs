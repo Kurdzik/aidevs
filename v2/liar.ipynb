{
 "cells": [
  {
   "cell_type": "code",
   "execution_count": null,
   "metadata": {},
   "outputs": [],
   "source": [
    "import requests\n",
    "import os\n",
    "from dotenv import load_dotenv\n",
    "\n",
    "load_dotenv()\n",
    "\n",
    "APIKEY = os.getenv('APIKEY')\n",
    "OPENAI_APIKEY = os.getenv('OPENAI_APIKEY')\n",
    "\n",
    "def get_question_token(task_name):\n",
    "    url = f\"https://zadania.aidevs.pl/token/{task_name}\"\n",
    "    headres = {\"apikey\": APIKEY}\n",
    "    response = requests.post(url=url, json=headres).json()\n",
    "\n",
    "    return response[\"token\"]\n",
    "\n",
    "\n",
    "\n",
    "def get_question(token):\n",
    "    url = f\"https://zadania.aidevs.pl/task/{token}\"\n",
    "    response = requests.get(url=url).json()\n",
    "\n",
    "    return response\n",
    "\n"
   ]
  },
  {
   "cell_type": "code",
   "execution_count": null,
   "metadata": {},
   "outputs": [],
   "source": [
    "token = get_question_token(\"liar\")\n",
    "resp = get_question(token)\n",
    "resp"
   ]
  },
  {
   "cell_type": "code",
   "execution_count": null,
   "metadata": {},
   "outputs": [],
   "source": [
    "url = f\"https://zadania.aidevs.pl/task/{token}\"\n",
    "headres = {\"question\":\"What us the capital of Poland?\"}\n",
    "\n",
    "requests.post(url=url, data=headres).json()"
   ]
  },
  {
   "cell_type": "code",
   "execution_count": null,
   "metadata": {},
   "outputs": [],
   "source": [
    "url = f\"https://zadania.aidevs.pl/answer/{token}\"\n",
    "headres = {\"answer\":\"NO\"}\n",
    "\n",
    "requests.post(url=url, json=headres).json()"
   ]
  }
 ],
 "metadata": {
  "kernelspec": {
   "display_name": "llm",
   "language": "python",
   "name": "python3"
  },
  "language_info": {
   "codemirror_mode": {
    "name": "ipython",
    "version": 3
   },
   "file_extension": ".py",
   "mimetype": "text/x-python",
   "name": "python",
   "nbconvert_exporter": "python",
   "pygments_lexer": "ipython3",
   "version": "3.10.12"
  }
 },
 "nbformat": 4,
 "nbformat_minor": 2
}
