{
 "cells": [
  {
   "cell_type": "code",
   "execution_count": null,
   "metadata": {},
   "outputs": [],
   "source": [
    "import requests\n",
    "import os\n",
    "from dotenv import load_dotenv\n",
    "\n",
    "load_dotenv()\n",
    "\n",
    "APIKEY = os.getenv('APIKEY')\n",
    "OPENAI_APIKEY = os.getenv('OPENAI_APIKEY')\n",
    "\n",
    "def get_question_token(task_name):\n",
    "    url = f\"https://zadania.aidevs.pl/token/{task_name}\"\n",
    "    headres = {\"apikey\": APIKEY}\n",
    "    response = requests.post(url=url, json=headres).json()\n",
    "\n",
    "    return response[\"token\"]\n",
    "\n",
    "token = get_question_token(\"blogger\")\n",
    "token\n",
    "\n",
    "def get_question(token):\n",
    "    url = f\"https://zadania.aidevs.pl/task/{token}\"\n",
    "    response = requests.get(url=url).json()\n",
    "\n",
    "    return response\n",
    "\n",
    "resp = get_question(token)\n",
    "resp"
   ]
  },
  {
   "cell_type": "code",
   "execution_count": null,
   "metadata": {},
   "outputs": [],
   "source": [
    "import openai\n",
    "\n",
    "openai.api_key = OPENAI_APIKEY\n"
   ]
  },
  {
   "cell_type": "code",
   "execution_count": null,
   "metadata": {},
   "outputs": [],
   "source": [
    "task = \"Napisz wpis na bloga (w języku polskim) na temat przyrządzania pizzy Margherity\" + \".\" + \" \\n###\\n\" \n",
    "print(task)"
   ]
  },
  {
   "cell_type": "code",
   "execution_count": null,
   "metadata": {},
   "outputs": [],
   "source": [
    "from langchain.llms import OpenAI\n",
    "from langchain.chat_models import ChatOpenAI\n",
    "\n",
    "llm = ChatOpenAI(openai_api_key=OPENAI_APIKEY,\n",
    "                 model=\"gpt-3.5-turbo\",\n",
    "                 streaming=False)\n",
    "\n",
    "blog_post = llm.predict(task)\n",
    "\n"
   ]
  },
  {
   "cell_type": "code",
   "execution_count": null,
   "metadata": {},
   "outputs": [],
   "source": [
    "import json\n",
    "blog_post = json.loads(blog_post)\n",
    "blog_post"
   ]
  },
  {
   "cell_type": "code",
   "execution_count": null,
   "metadata": {},
   "outputs": [],
   "source": [
    "blog_post['answer'][0]\n",
    "blog_post['answer'][1]\n",
    "blog_post['answer'][2] + ' ' + blog_post['answer'][3]\n",
    "blog_post['answer'][4]\n"
   ]
  },
  {
   "cell_type": "code",
   "execution_count": null,
   "metadata": {},
   "outputs": [],
   "source": [
    "url = f\"https://zadania.aidevs.pl/answer/{token}\"\n",
    "headres = {\"answer\":[blog_post['answer'][0],blog_post['answer'][1],blog_post['answer'][2] + ' ' + blog_post['answer'][3],blog_post['answer'][4]]}\n",
    "\n",
    "requests.post(url=url, json=headres).json()"
   ]
  },
  {
   "cell_type": "code",
   "execution_count": null,
   "metadata": {},
   "outputs": [],
   "source": [
    "url = f\"https://zadania.aidevs.pl/answer/{token}\"\n",
    "headres = {\"answer\":[blog_post['answer'][0],blog_post['answer'][1],blog_post['answer'][2] + ' ' + blog_post['answer'][3],blog_post['answer'][4]]}\n",
    "requests.post(url=url, json=headres).json()\n"
   ]
  }
 ],
 "metadata": {
  "kernelspec": {
   "display_name": "llm",
   "language": "python",
   "name": "python3"
  },
  "language_info": {
   "codemirror_mode": {
    "name": "ipython",
    "version": 3
   },
   "file_extension": ".py",
   "mimetype": "text/x-python",
   "name": "python",
   "nbconvert_exporter": "python",
   "pygments_lexer": "ipython3",
   "version": "3.10.12"
  }
 },
 "nbformat": 4,
 "nbformat_minor": 2
}
