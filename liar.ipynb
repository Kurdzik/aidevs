{
 "cells": [
  {
   "cell_type": "code",
   "execution_count": 4,
   "metadata": {},
   "outputs": [],
   "source": [
    "import requests\n",
    "import os\n",
    "from dotenv import load_dotenv\n",
    "\n",
    "load_dotenv()\n",
    "\n",
    "APIKEY = os.getenv('APIKEY')\n",
    "OPENAI_APIKEY = os.getenv('OPENAI_APIKEY')\n",
    "\n",
    "def get_question_token(task_name):\n",
    "    url = f\"https://zadania.aidevs.pl/token/{task_name}\"\n",
    "    headres = {\"apikey\": APIKEY}\n",
    "    response = requests.post(url=url, json=headres).json()\n",
    "\n",
    "    return response[\"token\"]\n",
    "\n",
    "\n",
    "\n",
    "def get_question(token):\n",
    "    url = f\"https://zadania.aidevs.pl/task/{token}\"\n",
    "    response = requests.get(url=url).json()\n",
    "\n",
    "    return response\n",
    "\n"
   ]
  },
  {
   "cell_type": "code",
   "execution_count": 5,
   "metadata": {},
   "outputs": [
    {
     "data": {
      "text/plain": [
       "{'code': 0,\n",
       " 'msg': 'send me any question in english, and I will try to answer it in max 150 tokens',\n",
       " 'hint1': \"please send your question in 'question' field to /task/ endpoint (simple form, not JSON)\",\n",
       " 'hint2': \"sometimes I don't tell the truth\",\n",
       " 'hint3': \"Send to /answer/ info if I'm telling the truth. Just value: YES/NO\"}"
      ]
     },
     "execution_count": 5,
     "metadata": {},
     "output_type": "execute_result"
    }
   ],
   "source": [
    "token = get_question_token(\"liar\")\n",
    "resp = get_question(token)\n",
    "resp"
   ]
  },
  {
   "cell_type": "code",
   "execution_count": 9,
   "metadata": {},
   "outputs": [
    {
     "data": {
      "text/plain": [
       "{'code': 0,\n",
       " 'msg': 'This is my answer',\n",
       " 'answer': 'The debate over pineapple on pizza is so intense that it has become a popular internet meme.'}"
      ]
     },
     "execution_count": 9,
     "metadata": {},
     "output_type": "execute_result"
    }
   ],
   "source": [
    "url = f\"https://zadania.aidevs.pl/task/{token}\"\n",
    "headres = {\"question\":\"What us the capital of Poland?\"}\n",
    "\n",
    "requests.post(url=url, data=headres).json()"
   ]
  },
  {
   "cell_type": "code",
   "execution_count": 10,
   "metadata": {},
   "outputs": [
    {
     "data": {
      "text/plain": [
       "{'code': 0, 'msg': 'OK', 'note': 'CORRECT'}"
      ]
     },
     "execution_count": 10,
     "metadata": {},
     "output_type": "execute_result"
    }
   ],
   "source": [
    "url = f\"https://zadania.aidevs.pl/answer/{token}\"\n",
    "headres = {\"answer\":\"NO\"}\n",
    "\n",
    "requests.post(url=url, json=headres).json()"
   ]
  }
 ],
 "metadata": {
  "kernelspec": {
   "display_name": "llm",
   "language": "python",
   "name": "python3"
  },
  "language_info": {
   "codemirror_mode": {
    "name": "ipython",
    "version": 3
   },
   "file_extension": ".py",
   "mimetype": "text/x-python",
   "name": "python",
   "nbconvert_exporter": "python",
   "pygments_lexer": "ipython3",
   "version": "3.10.12"
  }
 },
 "nbformat": 4,
 "nbformat_minor": 2
}
